{
 "cells": [
  {
   "cell_type": "code",
   "execution_count": 1,
   "id": "40aaceca-78f2-4a92-8252-e4eb23482926",
   "metadata": {},
   "outputs": [],
   "source": [
    "from src.modules.template.template_service import TemplateService"
   ]
  },
  {
   "cell_type": "code",
   "execution_count": 2,
   "id": "b55b86d3-f188-4810-9a32-6da8d10d54e6",
   "metadata": {},
   "outputs": [
    {
     "name": "stderr",
     "output_type": "stream",
     "text": [
      "imgflip template scrapper: 100%|███████████████████████████████████████████████████████████████| 250/250 [00:40<00:00,  6.17it/s]\n",
      "[I 220706 09:42:36 template_service:63] Total Templates: 1455\n"
     ]
    }
   ],
   "source": [
    "TemplateService.build_db()"
   ]
  },
  {
   "cell_type": "code",
   "execution_count": null,
   "id": "ff7a9ef5-eb3e-4b57-847f-a8717267b4d5",
   "metadata": {},
   "outputs": [],
   "source": []
  }
 ],
 "metadata": {
  "kernelspec": {
   "display_name": "mh",
   "language": "python",
   "name": "mh"
  },
  "language_info": {
   "codemirror_mode": {
    "name": "ipython",
    "version": 3
   },
   "file_extension": ".py",
   "mimetype": "text/x-python",
   "name": "python",
   "nbconvert_exporter": "python",
   "pygments_lexer": "ipython3",
   "version": "3.10.4"
  }
 },
 "nbformat": 4,
 "nbformat_minor": 5
}
